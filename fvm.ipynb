{
  "nbformat": 4,
  "nbformat_minor": 0,
  "metadata": {
    "colab": {
      "provenance": [],
      "collapsed_sections": [],
      "authorship_tag": "ABX9TyNA9QObEj5gzAHiJnTRIMHU",
      "include_colab_link": true
    },
    "kernelspec": {
      "name": "python3",
      "display_name": "Python 3"
    },
    "language_info": {
      "name": "python"
    }
  },
  "cells": [
    {
      "cell_type": "markdown",
      "metadata": {
        "id": "view-in-github",
        "colab_type": "text"
      },
      "source": [
        "<a href=\"https://colab.research.google.com/github/novus-afk/FVM-1D-Steady-State-Diffusion-solver-python/blob/master/fvm.ipynb\" target=\"_parent\"><img src=\"https://colab.research.google.com/assets/colab-badge.svg\" alt=\"Open In Colab\"/></a>"
      ]
    },
    {
      "cell_type": "code",
      "execution_count": null,
      "metadata": {
        "id": "z8jGjEM1zLlg"
      },
      "outputs": [],
      "source": [
        "'''   Copyright 2021 MOHAMMED YAHYA ANSARI\n",
        "\n",
        "   Licensed under the Apache License, Version 2.0 (the \"License\");\n",
        "   you may not use this file except in compliance with the License.\n",
        "   You may obtain a copy of the License at\n",
        "\n",
        "       http://www.apache.org/licenses/LICENSE-2.0\n",
        "\n",
        "   Unless required by applicable law or agreed to in writing, software\n",
        "   distributed under the License is distributed on an \"AS IS\" BASIS,\n",
        "   WITHOUT WARRANTIES OR CONDITIONS OF ANY KIND, either express or implied.\n",
        "   See the License for the specific language governing permissions and\n",
        "   limitations under the License.\n",
        "'''"
      ]
    },
    {
      "cell_type": "code",
      "source": [
        "#import the required libraries\n",
        "import pandas as pd\n",
        "import matplotlib.pyplot as plt"
      ],
      "metadata": {
        "id": "gghrsu6gzpQF"
      },
      "execution_count": 1,
      "outputs": []
    },
    {
      "cell_type": "code",
      "source": [
        "print(\"\\n\\t\\t Finite Volume Method for 1D Steady State Diffusion \\n\")\n",
        "\n",
        "# Switch case for type of numerical\n",
        "choice = \"\"\n",
        "while choice != \"q\":\n",
        "    print(\"\"\"\\t[ 1 ] Diffusion without Source\n",
        "\n",
        "        [ 2 ] Diffusion with uniform source\n",
        "\n",
        "        [ q ] Exit\\n\"\"\")\n",
        "    choice = input(\"\\n\\tEnter Choice :\\t\")\n",
        "\n",
        "    if choice == \"1\":\n",
        "        print(\"\\n\\t\\tDiffusion Without Source\\n\")\n",
        "        q = 0\n",
        "        break\n",
        "    elif choice == \"2\":\n",
        "        print(\"\\n\\t\\tDiffusion with Uniform Source\\n\")\n",
        "        q = float(input(\"\\n\\tEnter uniform heat generation q in W/m2:   \"))\n",
        "        break\n",
        "    elif choice == \"q\":\n",
        "        exit()\n",
        "    else:\n",
        "        print(\"\\n\\n\\tInvalid choice, Try again!\\n\")"
      ],
      "metadata": {
        "id": "yXlqf3yoztjE",
        "colab": {
          "base_uri": "https://localhost:8080/"
        },
        "outputId": "23d09013-0976-428e-c347-2fcaa95b27a2"
      },
      "execution_count": 2,
      "outputs": [
        {
          "name": "stdout",
          "output_type": "stream",
          "text": [
            "\n",
            "\t\t Finite Volume Method for 1D Steady State Diffusion \n",
            "\n",
            "\t[ 1 ] Diffusion without Source\n",
            "\n",
            "        [ 2 ] Diffusion with uniform source\n",
            "\n",
            "        [ q ] Exit\n",
            "\n",
            "\n",
            "\tEnter Choice :\t2\n",
            "\n",
            "\t\tDiffusion with Uniform Source\n",
            "\n",
            "\n",
            "\tEnter uniform heat generation q in W/m2:   1000000\n"
          ]
        }
      ]
    },
    {
      "cell_type": "code",
      "source": [
        "# input from user\n",
        "n = int(input(\"\\n\\tEnter the number of grid points:   \"))\n",
        "l = float(input(\"\\n\\tEnter length of plate in m:   \"))\n",
        "tk = float(input(\"\\n\\tEnter thermal conductivity of plate in W/mK or W/mC:   \"))\n",
        "ta = float(input(\"\\n\\tEnter temperature at left face Ta in C:   \"))\n",
        "tb = float(input(\"\\n\\tEnter temperature at right face Tb in C:   \"))"
      ],
      "metadata": {
        "id": "jY9LaM-0z_zc",
        "colab": {
          "base_uri": "https://localhost:8080/"
        },
        "outputId": "8b1461c1-40fa-473d-f800-e7b9611fdaae"
      },
      "execution_count": 3,
      "outputs": [
        {
          "name": "stdout",
          "output_type": "stream",
          "text": [
            "\n",
            "\tEnter the number of grid points:   5\n",
            "\n",
            "\tEnter length of plate in m:   0.02\n",
            "\n",
            "\tEnter thermal conductivity of plate in W/mK or W/mC:   0.5\n",
            "\n",
            "\tEnter temperature at left face Ta in C:   100\n",
            "\n",
            "\tEnter temperature at right face Tb in C:   200\n"
          ]
        }
      ]
    },
    {
      "cell_type": "code",
      "source": [
        "# create empty list\n",
        "D = [0]*n\n",
        "beta = [0]*n\n",
        "alpha = [0]*n\n",
        "c = [0]*n\n",
        "A = [0]*n\n",
        "C = [0]*n\n",
        "temp = [0]*n\n",
        "\n",
        "Err = [0]*n\n",
        "Texact = [0]*n\n",
        "g = [0]*n\n",
        "g1 = [0]*n"
      ],
      "metadata": {
        "id": "aD42-QvW0Cwk"
      },
      "execution_count": 4,
      "outputs": []
    },
    {
      "cell_type": "code",
      "source": [
        "# setting up equations in tdma format\n",
        "dx = l/n\n",
        "D[0] = (3*tk)/dx\n",
        "D[1] = (2*tk)/dx\n",
        "D[n-1] = (3*tk)/dx\n",
        "beta[1] = tk/dx\n",
        "alpha[1] = tk/dx\n",
        "c[0] = ((2*tk*ta)/dx)+(q*dx)\n",
        "\n",
        "for i in range(1, n-1):\n",
        "    c[i] = q*dx\n",
        "\n",
        "c[n-1] = ((2*tk*tb)/dx)+(q*dx)\n",
        "beta[0] = 0\n",
        "beta[n-1] = beta[1]\n",
        "alpha[0] = alpha[1]\n",
        "alpha[n-1] = 0"
      ],
      "metadata": {
        "id": "hsLQkmsw0Fok"
      },
      "execution_count": 5,
      "outputs": []
    },
    {
      "cell_type": "code",
      "source": [
        "# add common value to list D, beta and alpha\n",
        "for i in range(2, n-1):\n",
        "    D[i] = D[1]\n",
        "    beta[i] = beta[1]\n",
        "    alpha[i] = alpha[1]"
      ],
      "metadata": {
        "id": "spkdp7tn0OPj"
      },
      "execution_count": 6,
      "outputs": []
    },
    {
      "cell_type": "code",
      "source": [
        "# Calculating intermediate terms by forward substitution\n",
        "for i in range(0, n):\n",
        "    A[i] = alpha[i]/(D[i] - beta[i]*A[i-1])\n",
        "    C[i] = (beta[i]*C[i-1] + c[i])/(D[i] - beta[i]*A[i-1])\n",
        "\n",
        "# equating last value for back substitution\n",
        "temp[n-1] = C[n-1]\n",
        "# Calculating Temperarure values by backward substitution\n",
        "j = n-2\n",
        "while j >= 0:\n",
        "    temp[j] = A[j] * temp[j+1] + C[j]\n",
        "    j = j-1\n"
      ],
      "metadata": {
        "id": "aq1OaCtR0RU0"
      },
      "execution_count": 7,
      "outputs": []
    },
    {
      "cell_type": "code",
      "source": [
        "# Calculating Exact Solution and error\n",
        "A1 = (-q)/(2*tk)\n",
        "A2 = tb/l - ta/l + (q*l)/(2*tk)\n",
        "dx = l/n\n",
        "\n",
        "for i in range(0, n):\n",
        "    g[i] = dx*0.5 + (dx * i)\n",
        "    Texact[i] = A1 * g[i] * g[i] + A2 * g[i] + ta\n",
        "    Err[i] = ((temp[i] - Texact[i]) * 100*2) / (temp[i] + Texact[i])\n",
        "    g1[i]=g[i]#create copy of g for excel"
      ],
      "metadata": {
        "id": "yWSdTRSQ0oVc"
      },
      "execution_count": 8,
      "outputs": []
    },
    {
      "cell_type": "code",
      "source": [
        "# create output tuple\n",
        "OUTPUT = list(zip(beta, D, alpha, c, A, C, temp, Texact, Err))\n",
        "\n",
        "# create Pandas DataFrame\n",
        "result = pd.DataFrame(data=OUTPUT, columns=[\"\\N{GREEK SMALL LETTER BETA}\", \"Diagonal(D)\", \"\\N{GREEK SMALL LETTER ALPHA}\",\n",
        "                      \"Constant(C)\", \"A\", \"C'\", \"Temperature(T)\", \"Temperature Exact(T exact)\", \"% Error\"])\n",
        "# change index to 1,2,3,.....\n",
        "result.index = result.index + 1\n",
        "\n",
        "# print table\n",
        "print(\"\\n\\n\")\n",
        "print(result)"
      ],
      "metadata": {
        "id": "7wiwsuHF1N19",
        "colab": {
          "base_uri": "https://localhost:8080/"
        },
        "outputId": "e9bfe720-9035-48f2-f860-0284f9500898"
      },
      "execution_count": 9,
      "outputs": [
        {
          "output_type": "stream",
          "name": "stdout",
          "text": [
            "\n",
            "\n",
            "\n",
            "       β  Diagonal(D)      α  Constant(C)         A          C'  \\\n",
            "1    0.0        375.0  125.0      29000.0  0.333333   77.333333   \n",
            "2  125.0        250.0  125.0       4000.0  0.600000   65.600000   \n",
            "3  125.0        250.0  125.0       4000.0  0.714286   69.714286   \n",
            "4  125.0        250.0  125.0       4000.0  0.777778   79.111111   \n",
            "5  125.0        375.0    0.0      54000.0  0.000000  230.000000   \n",
            "\n",
            "   Temperature(T)  Temperature Exact(T exact)   % Error  \n",
            "1           150.0                       146.0  2.702703  \n",
            "2           218.0                       214.0  1.851852  \n",
            "3           254.0                       250.0  1.587302  \n",
            "4           258.0                       254.0  1.562500  \n",
            "5           230.0                       226.0  1.754386  \n"
          ]
        }
      ]
    },
    {
      "cell_type": "code",
      "source": [
        "#plot and show graph\n",
        "# adding initial and final conditions to the list, as list contains values at nodes\n",
        "temp.insert(0, ta)\n",
        "temp.append(tb)\n",
        "Texact.insert(0, ta)\n",
        "Texact.append(tb)\n",
        "g.insert(0, 0)\n",
        "g.append(l)\n",
        "\n",
        "graph = pd.DataFrame({'Temperature Numerical': temp, 'Temperature Exact': Texact}, index=g)\n",
        "# graph.plot()\n",
        "plt.plot(graph , marker = '.')\n",
        "plt.title(\"Temperature-Distance Graph\")\n",
        "plt.xlabel(\"Distance(m)\")\n",
        "plt.ylabel(\"Temperature\")\n",
        "plt.grid()\n",
        "plt.legend(['Temperature Numerical', 'Temperature Exact(Analytical)'])\n",
        "figure = plt.gcf()\n",
        "print('''\\n********** Plot Graph complete **********\n",
        "\n",
        "* * * * *   Graph Displayed   * * * * *\n",
        "\n",
        "*****     Close Graph to Continue     *****\\n''')\n",
        "plt.show()"
      ],
      "metadata": {
        "id": "wP2OJpC11UJM",
        "colab": {
          "base_uri": "https://localhost:8080/",
          "height": 416
        },
        "outputId": "de26149e-35e8-40ca-e48a-b163e335e178"
      },
      "execution_count": 10,
      "outputs": [
        {
          "output_type": "stream",
          "name": "stdout",
          "text": [
            "\n",
            "********** Plot Graph complete **********\n",
            "\n",
            "* * * * *   Graph Displayed   * * * * *\n",
            "\n",
            "*****     Close Graph to Continue     *****\n",
            "\n"
          ]
        },
        {
          "output_type": "display_data",
          "data": {
            "text/plain": [
              "<Figure size 432x288 with 1 Axes>"
            ],
            "image/png": "[encoded data removed]"
          },
          "metadata": {
            "needs_background": "light"
          }
        }
      ]
    },
    {
      "cell_type": "code",
      "source": [
        "\n",
        "\n",
        "\n",
        "# # save choice\n",
        "# while choice != \"q\":\n",
        "#     print('''\\n\\t[ y ] Save result to excel file and graph to png file.\n",
        "    \n",
        "#         [ q ] Exit without saving result\n",
        "#         ''')\n",
        "#     choice = input(\"\\nEnter your choice :\\t\")\n",
        "#     if choice == \"y\":\n",
        "#         result.insert(0, 'Distance(x)', g1)\n",
        "#         result.insert(0, 'Node no.', range(1, 1 + len(result))) #add serial no  column at the start of the DataFrame\n",
        "#         result.to_excel(\"output/FVM.xlsx\", sheet_name = 'Output', index = False) #.to_excel to export excel file\n",
        "#         figure.savefig(\"output/graph.png\") #save graph\n",
        "#         print(\"\\n\\n*************** Export complete! Check output folder. ***************\\n\\n\")\n",
        "#         break\n",
        "#     elif choice == \"q\":\n",
        "#         print(\"\\n***** Result not saved *****\")\n",
        "#         break\n",
        "#     else:\n",
        "#         print(\"\\n Invalid Choice, Try again !\")\n",
        "\n",
        "\n",
        "# # hold window\n",
        "# input(\"\\n\\nPress Enter to Exit\")\n"
      ],
      "metadata": {
        "id": "AEQaFAOL1XOL"
      },
      "execution_count": null,
      "outputs": []
    }
  ]
}